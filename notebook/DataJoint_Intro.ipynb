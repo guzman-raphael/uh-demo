{
 "cells": [
  {
   "cell_type": "markdown",
   "source": [
    "# Connecting to your data"
   ],
   "metadata": {}
  },
  {
   "cell_type": "code",
   "execution_count": null,
   "source": [
    "import datajoint as dj\n",
    "dj.config['enable_python_native_blobs'] = True\n",
    "dj.__version__"
   ],
   "outputs": [],
   "metadata": {}
  },
  {
   "cell_type": "markdown",
   "source": [
    "## Open connection to a database server instance i.e. Pipeline"
   ],
   "metadata": {}
  },
  {
   "cell_type": "code",
   "execution_count": null,
   "source": [
    "# dj.conn(host='db', user='root', password='coogs')\n",
    "dj.conn()"
   ],
   "outputs": [],
   "metadata": {}
  },
  {
   "cell_type": "code",
   "execution_count": null,
   "source": [
    "dj.list_schemas()"
   ],
   "outputs": [],
   "metadata": {}
  },
  {
   "cell_type": "markdown",
   "source": [
    "# Structuring your data using a database i.e. Schema"
   ],
   "metadata": {}
  },
  {
   "cell_type": "code",
   "execution_count": null,
   "source": [
    "schema = dj.Schema(f\"{dj.config['database.user']}_uh_showcase\")"
   ],
   "outputs": [],
   "metadata": {}
  },
  {
   "cell_type": "code",
   "execution_count": null,
   "source": [
    "dj.Di(schema)"
   ],
   "outputs": [],
   "metadata": {}
  },
  {
   "cell_type": "code",
   "execution_count": null,
   "source": [
    "@schema\n",
    "class Sport(dj.Manual):\n",
    "    definition = \"\"\"\n",
    "    sport_id        :  int auto_increment\n",
    "    ---\n",
    "    name      : varchar(30)\n",
    "    sex=\"men\" : enum(\"women\", \"men\")\n",
    "    unique index(name, sex)\n",
    "    \"\"\""
   ],
   "outputs": [],
   "metadata": {}
  },
  {
   "cell_type": "code",
   "execution_count": null,
   "source": [
    "dj.Di(schema)"
   ],
   "outputs": [],
   "metadata": {}
  },
  {
   "cell_type": "code",
   "execution_count": null,
   "source": [
    "Sport.insert([\n",
    "    dict(name='swim', sex='women'),\n",
    "    dict(name='soc', sex='women')\n",
    "])\n",
    "Sport.insert([\n",
    "    dict(name='track'),\n",
    "    dict(name='football')\n",
    "])"
   ],
   "outputs": [],
   "metadata": {}
  },
  {
   "cell_type": "code",
   "execution_count": null,
   "source": [
    "Sport()"
   ],
   "outputs": [],
   "metadata": {}
  },
  {
   "cell_type": "code",
   "execution_count": null,
   "source": [
    "import datetime"
   ],
   "outputs": [],
   "metadata": {}
  },
  {
   "cell_type": "code",
   "execution_count": null,
   "source": [
    "@schema\n",
    "class NewsArticle(dj.Manual):\n",
    "    definition = \"\"\"\n",
    "    -> Sport\n",
    "    news_id       : int\n",
    "    ---\n",
    "    date=null: date\n",
    "    \"\"\""
   ],
   "outputs": [],
   "metadata": {}
  },
  {
   "cell_type": "code",
   "execution_count": null,
   "source": [
    "dj.Di(schema)"
   ],
   "outputs": [],
   "metadata": {}
  },
  {
   "cell_type": "code",
   "execution_count": null,
   "source": [
    "NewsArticle.insert([\n",
    "    [4, 1, datetime.date(2020,3,3)],\n",
    "    [2, 1, datetime.date(2019,11,5)],\n",
    "    [1, 1, datetime.date(2020,3,11)],\n",
    "    [3, 1, datetime.date(2020,3,4)],\n",
    "])\n",
    "# NewsArticle.insert([\n",
    "#     dict(sport_id=1, news_id=1),\n",
    "#     dict(sport_id=3, news_id=1)\n",
    "# ])"
   ],
   "outputs": [],
   "metadata": {}
  },
  {
   "cell_type": "code",
   "execution_count": null,
   "source": [
    "NewsArticle()"
   ],
   "outputs": [],
   "metadata": {}
  },
  {
   "cell_type": "code",
   "execution_count": null,
   "source": [
    "import requests\n",
    "import json\n",
    "import re\n",
    "from os import path, mkdir"
   ],
   "outputs": [],
   "metadata": {}
  },
  {
   "cell_type": "code",
   "execution_count": null,
   "source": [
    "@schema\n",
    "class Headline(dj.Imported):\n",
    "    definition = \"\"\"\n",
    "    -> NewsArticle\n",
    "    ---\n",
    "    name : varchar(200)\n",
    "    image: longblob\n",
    "    \"\"\"\n",
    "    def make(self, key):    \n",
    "        sport_name, sport_sex = (Sport & key).fetch1('name', 'sex')\n",
    "        news_date = (NewsArticle & key).fetch1('date')\n",
    "        file_path = 'cached/{}_{}_{}.JPG'.format(sport_name, sport_sex, news_date)\n",
    "        \n",
    "        if not path.exists(file_path):\n",
    "            base_url = \"https://uhcougars.com\"\n",
    "            headers = {\n",
    "                'User-Agent': \"DataJoint\"\n",
    "            }\n",
    "            querystring = {\n",
    "                \"index\":\"1\",\n",
    "                \"page_size\":\"30\",\n",
    "                \"sport\": sport_name if sport_sex != 'women' else sport_sex[0] + sport_name,\n",
    "                \"season\":\"0\"\n",
    "            }\n",
    "            response = requests.request(\"GET\", base_url + \"/services/archives.ashx/stories\", headers=headers, params=querystring)\n",
    "            article = [v for v in json.loads(response.text)['data'] if v['story_postdate'] == news_date.strftime(\"%-m/%-d/%Y\")][0] if news_date else json.loads(response.text)['data'][0]\n",
    "            news_date = datetime.datetime.strptime(article['story_postdate'], '%m/%d/%Y').date() if not news_date else news_date\n",
    "            response = requests.request(\"GET\", base_url + article['story_path'], headers=headers)\n",
    "            image_path = re.findall(r'<img src=\"/images/{year}[A-Za-z0-9/_.\\-]+'.format(year=news_date.year), response.text)[0][10:]\n",
    "            response = requests.request(\"GET\", base_url + image_path, headers=headers)\n",
    "            if not path.exists(path.dirname(file_path)):\n",
    "                mkdir(path.dirname(file_path))\n",
    "            with open(file_path, 'wb') as f:\n",
    "                f.write(response.content)\n",
    "            print('Image `{}` downloaded.'.format(file_path))\n",
    "            key['name'] = article['story_headline']\n",
    "        else:\n",
    "            key['name'] = 'No Title (loaded from cache)'\n",
    "            print('Image `{}` read from cache.'.format(file_path))\n",
    "            \n",
    "        with open(file_path, mode='rb') as f:\n",
    "            key['image'] = f.read()\n",
    "        self.insert1(key)"
   ],
   "outputs": [],
   "metadata": {}
  },
  {
   "cell_type": "code",
   "execution_count": null,
   "source": [
    "dj.Di(schema)"
   ],
   "outputs": [],
   "metadata": {}
  },
  {
   "cell_type": "code",
   "execution_count": null,
   "source": [
    "Headline.populate()"
   ],
   "outputs": [],
   "metadata": {}
  },
  {
   "cell_type": "code",
   "execution_count": null,
   "source": [
    "q_original = Headline()\n",
    "q_original = Headline & dict(sport_id=1, news_id=1)\n",
    "q_original"
   ],
   "outputs": [],
   "metadata": {}
  },
  {
   "cell_type": "code",
   "execution_count": null,
   "source": [
    "from PIL import Image\n",
    "from io import BytesIO\n",
    "from matplotlib import pyplot as plt"
   ],
   "outputs": [],
   "metadata": {}
  },
  {
   "cell_type": "code",
   "execution_count": null,
   "source": [
    "image_original = q_original.fetch1('image')\n",
    "image_original = Image.open(BytesIO(image_original))\n",
    "fig, axarr = plt.subplots(1,1,figsize=(15,15))\n",
    "axarr.imshow(image_original)"
   ],
   "outputs": [],
   "metadata": {}
  },
  {
   "cell_type": "code",
   "execution_count": null,
   "source": [
    "@schema\n",
    "class PaintingStyle(dj.Lookup):\n",
    "    definition = \"\"\"\n",
    "    style_name      : varchar(30)\n",
    "    \"\"\"\n",
    "    contents = [\n",
    "        ['udnie']\n",
    "    ]"
   ],
   "outputs": [],
   "metadata": {}
  },
  {
   "cell_type": "code",
   "execution_count": null,
   "source": [
    "dj.Di(schema)"
   ],
   "outputs": [],
   "metadata": {}
  },
  {
   "cell_type": "code",
   "execution_count": null,
   "source": [
    "PaintingStyle.insert([\n",
    "    dict(style_name='la_muse')\n",
    "])"
   ],
   "outputs": [],
   "metadata": {}
  },
  {
   "cell_type": "code",
   "execution_count": null,
   "source": [
    "PaintingStyle()"
   ],
   "outputs": [],
   "metadata": {}
  },
  {
   "cell_type": "code",
   "execution_count": null,
   "source": [
    "import numpy as np\n",
    "import cv2\n",
    "import imutils"
   ],
   "outputs": [],
   "metadata": {}
  },
  {
   "cell_type": "code",
   "execution_count": null,
   "source": [
    "@schema\n",
    "class Flyer(dj.Computed):\n",
    "    definition = \"\"\"\n",
    "    -> Headline\n",
    "    -> PaintingStyle\n",
    "    ---\n",
    "    image: longblob\n",
    "    \"\"\"\n",
    "    def make(self, key):\n",
    "        style_path = 'models/' + key['style_name'] + '.t7'\n",
    "        image = (Headline & key).fetch1('image')\n",
    "        \n",
    "        net = cv2.dnn.readNetFromTorch(style_path)\n",
    "        image = np.frombuffer(image, np.uint8)\n",
    "        image = cv2.imdecode(image, cv2.IMREAD_COLOR)\n",
    "#         image = cv2.cvtColor(image, cv2.COLOR_BGR2RGB)\n",
    "    \n",
    "        image = imutils.resize(image, width=600)\n",
    "        (h, w) = image.shape[:2]\n",
    "\n",
    "        # construct a blob from the image, set the input, and then perform a\n",
    "        # forward pass of the network\n",
    "        blob = cv2.dnn.blobFromImage(image, 1.0, (w, h),\n",
    "            (103.939, 116.779, 123.680), swapRB=False, crop=False)\n",
    "        net.setInput(blob)\n",
    "        output = net.forward()\n",
    "\n",
    "        # reshape the output tensor, add back in the mean subtraction, and\n",
    "        # then swap the channel ordering\n",
    "        output = output.reshape((3, output.shape[2], output.shape[3]))\n",
    "        output[0] += 103.939\n",
    "        output[1] += 116.779\n",
    "        output[2] += 123.680\n",
    "        output = output.transpose(1, 2, 0)\n",
    "        output = np.clip(output, 0, 255)\n",
    "        output= output.astype('uint8')\n",
    "        \n",
    "        print('sport_id: {sport_id}, news_id: {news_id}, style_name: {style_name}'.format(**key))\n",
    "        \n",
    "        key['image'] = cv2.imencode('.jpg', output)[1].tostring()\n",
    "        self.insert1(key)"
   ],
   "outputs": [],
   "metadata": {}
  },
  {
   "cell_type": "code",
   "execution_count": null,
   "source": [
    "dj.Di(schema)"
   ],
   "outputs": [],
   "metadata": {}
  },
  {
   "cell_type": "code",
   "execution_count": null,
   "source": [
    "Flyer.populate()"
   ],
   "outputs": [],
   "metadata": {}
  },
  {
   "cell_type": "code",
   "execution_count": null,
   "source": [
    "q_styled = Flyer()\n",
    "q_styled = Flyer & dict(sport_id=1, news_id=1, style_name='la_muse')\n",
    "# q_styled = Flyer & dict(sport_id=1, news_id=1, style_name='udnie')\n",
    "q_styled"
   ],
   "outputs": [],
   "metadata": {}
  },
  {
   "cell_type": "code",
   "execution_count": null,
   "source": [
    "image_styled = q_styled.fetch1('image')\n",
    "image_styled = Image.open(BytesIO(image_styled))\n",
    "\n",
    "fig, axarr = plt.subplots(1,2,figsize=(15,15))\n",
    "axarr[0].imshow(image_original)\n",
    "axarr[1].imshow(image_styled)"
   ],
   "outputs": [],
   "metadata": {}
  },
  {
   "cell_type": "markdown",
   "source": [
    "# Clean up and remove generated data"
   ],
   "metadata": {}
  },
  {
   "cell_type": "code",
   "execution_count": null,
   "source": [
    "schema.drop()"
   ],
   "outputs": [],
   "metadata": {}
  },
  {
   "cell_type": "code",
   "execution_count": null,
   "source": [
    "import shutil\n",
    "shutil.rmtree('cached')"
   ],
   "outputs": [],
   "metadata": {}
  }
 ],
 "metadata": {
  "kernelspec": {
   "display_name": "Python 3",
   "language": "python",
   "name": "python3"
  },
  "language_info": {
   "codemirror_mode": {
    "name": "ipython",
    "version": 3
   },
   "file_extension": ".py",
   "mimetype": "text/x-python",
   "name": "python",
   "nbconvert_exporter": "python",
   "pygments_lexer": "ipython3",
   "version": "3.7.4"
  }
 },
 "nbformat": 4,
 "nbformat_minor": 4
}